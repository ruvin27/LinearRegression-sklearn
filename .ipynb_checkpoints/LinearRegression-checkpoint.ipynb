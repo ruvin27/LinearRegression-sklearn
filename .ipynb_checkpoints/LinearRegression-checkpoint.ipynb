{
 "cells": [
  {
   "cell_type": "code",
   "execution_count": 2,
   "metadata": {},
   "outputs": [
    {
     "data": {
      "text/html": [
       "<div>\n",
       "<style scoped>\n",
       "    .dataframe tbody tr th:only-of-type {\n",
       "        vertical-align: middle;\n",
       "    }\n",
       "\n",
       "    .dataframe tbody tr th {\n",
       "        vertical-align: top;\n",
       "    }\n",
       "\n",
       "    .dataframe thead th {\n",
       "        text-align: right;\n",
       "    }\n",
       "</style>\n",
       "<table border=\"1\" class=\"dataframe\">\n",
       "  <thead>\n",
       "    <tr style=\"text-align: right;\">\n",
       "      <th></th>\n",
       "      <th>G1</th>\n",
       "      <th>G2</th>\n",
       "      <th>G3</th>\n",
       "      <th>studytime</th>\n",
       "      <th>failures</th>\n",
       "      <th>absences</th>\n",
       "    </tr>\n",
       "  </thead>\n",
       "  <tbody>\n",
       "    <tr>\n",
       "      <th>0</th>\n",
       "      <td>5</td>\n",
       "      <td>6</td>\n",
       "      <td>6</td>\n",
       "      <td>2</td>\n",
       "      <td>0</td>\n",
       "      <td>6</td>\n",
       "    </tr>\n",
       "    <tr>\n",
       "      <th>1</th>\n",
       "      <td>5</td>\n",
       "      <td>5</td>\n",
       "      <td>6</td>\n",
       "      <td>2</td>\n",
       "      <td>0</td>\n",
       "      <td>4</td>\n",
       "    </tr>\n",
       "    <tr>\n",
       "      <th>2</th>\n",
       "      <td>7</td>\n",
       "      <td>8</td>\n",
       "      <td>10</td>\n",
       "      <td>2</td>\n",
       "      <td>3</td>\n",
       "      <td>10</td>\n",
       "    </tr>\n",
       "    <tr>\n",
       "      <th>3</th>\n",
       "      <td>15</td>\n",
       "      <td>14</td>\n",
       "      <td>15</td>\n",
       "      <td>3</td>\n",
       "      <td>0</td>\n",
       "      <td>2</td>\n",
       "    </tr>\n",
       "    <tr>\n",
       "      <th>4</th>\n",
       "      <td>6</td>\n",
       "      <td>10</td>\n",
       "      <td>10</td>\n",
       "      <td>2</td>\n",
       "      <td>0</td>\n",
       "      <td>4</td>\n",
       "    </tr>\n",
       "  </tbody>\n",
       "</table>\n",
       "</div>"
      ],
      "text/plain": [
       "   G1  G2  G3  studytime  failures  absences\n",
       "0   5   6   6          2         0         6\n",
       "1   5   5   6          2         0         4\n",
       "2   7   8  10          2         3        10\n",
       "3  15  14  15          3         0         2\n",
       "4   6  10  10          2         0         4"
      ]
     },
     "execution_count": 2,
     "metadata": {},
     "output_type": "execute_result"
    }
   ],
   "source": [
    "import numpy as np\n",
    "import pandas as pd\n",
    "import sklearn\n",
    "from sklearn.utils import shuffle\n",
    "from sklearn import linear_model\n",
    "from matplotlib import pyplot\n",
    "import pickle\n",
    "from matplotlib import style\n",
    "\n",
    "\n",
    "df = pd.read_csv('student-mat.csv', sep=\";\")\n",
    "df = df[[\"G1\", \"G2\", \"G3\", \"studytime\", \"failures\", \"absences\"]]\n",
    "df.head()"
   ]
  },
  {
   "cell_type": "code",
   "execution_count": 9,
   "metadata": {
    "scrolled": true
   },
   "outputs": [
    {
     "name": "stdout",
     "output_type": "stream",
     "text": [
      "Accuracy: 0.8625775202843395\n",
      "Accuracy: 0.9268806606948619\n",
      "Accuracy: 0.9571161629054799\n",
      "Coefficient:\n",
      " [ 0.1709952   0.96509302 -0.20834619 -0.33753863  0.03952141]\n",
      "Intercept:\n",
      " -1.541595774254569\n"
     ]
    }
   ],
   "source": [
    "predict = \"G3\"\n",
    "x = np.array(df.drop([predict], 1))\n",
    "y = np.array(df[predict])\n",
    "\n",
    "x_train, x_test, y_train, y_test = sklearn.model_selection.train_test_split(x,y,test_size = 0.1)\n",
    "\n",
    "\n",
    "\n",
    "best_score = 0\n",
    "for _ in range(30):\n",
    "    x_train, x_test, y_train, y_test = sklearn.model_selection.train_test_split(x,y,test_size = 0.1)\n",
    "\n",
    "    linear = linear_model.LinearRegression()\n",
    "    linear.fit(x_train, y_train)\n",
    "    acc = linear.score(x_test, y_test)\n",
    "    \n",
    "    if acc > best_score:\n",
    "        best_score = acc\n",
    "        print(\"Accuracy:\",acc)\n",
    "        with open(\"studentmodel.pickle\", \"wb\") as f:\n",
    "            pickle.dump(linear, f)\n",
    "\n",
    "\n",
    "\n",
    "\n",
    "print(\"Coefficient:\\n\",linear.coef_)\n",
    "print(\"Intercept:\\n\",linear.intercept_)"
   ]
  },
  {
   "cell_type": "code",
   "execution_count": 10,
   "metadata": {
    "scrolled": false
   },
   "outputs": [
    {
     "name": "stdout",
     "output_type": "stream",
     "text": [
      "9.720313529259503 [10 10  1  0  2] 10\n",
      "12.007782055794928 [12 12  1  0  2] 11\n",
      "9.26624514095517 [ 8 10  2  0  4] 10\n",
      "12.536003132760955 [14 13  4  0  0] 14\n",
      "3.5912657310817373 [6 5 2 1 0] 0\n",
      "6.327946343594377 [7 7 1 0 3] 8\n",
      "12.886430467572211 [13 13  3  0  7] 14\n",
      "8.520241918588365 [ 8  8  1  0 30] 8\n",
      "13.987040540394927 [15 14  3  0  2] 15\n",
      "6.600462566338864 [ 7  8  2  3 10] 10\n",
      "12.848501761003364 [12 13  2  0  4] 13\n",
      "14.449686101313228 [15 14  2  0  8] 14\n",
      "3.8496814851067214 [5 5 2 0 4] 6\n",
      "10.63870444274396 [10 11  2  0  6] 11\n",
      "6.973581130543598 [8 8 3 0 2] 10\n",
      "10.939905205664909 [13 11  3  0  8] 11\n",
      "15.36040673975288 [16 15  2  0  2] 15\n",
      "4.3645961251041205 [ 6  5  1  1 14] 5\n",
      "16.35308717277554 [16 16  2  0  2] 16\n",
      "7.7375365250451775 [7 9 3 0 0] 8\n",
      "10.707798478406012 [12 11  2  0  0] 12\n",
      "13.835079812580709 [15 14  4  0  4] 14\n",
      "12.693159344451324 [12 13  2  0  0] 14\n",
      "8.42461853817757 [9 9 2 0 4] 10\n",
      "9.413010384893242 [10 10  2  0  0] 10\n",
      "5.14446957861949 [7 6 2 0 4] 6\n",
      "14.98062787098675 [14 15  2  0  0] 15\n",
      "18.527430575634753 [18 18  3  0  5] 19\n",
      "9.353291348751995 [ 9  9  1  0 22] 9\n",
      "12.390942613298881 [14 12  2  0 10] 11\n",
      "14.834769524617839 [11 15  1  0  2] 15\n",
      "5.839221866796691 [ 8  6  2  0 18] 7\n",
      "7.946961815814641 [6 9 1 1 4] 8\n",
      "8.476089790349834 [ 7 10  3  1  0] 10\n",
      "13.836893607719036 [13 14  2  0  0] 15\n",
      "13.737432069870614 [13 13  2  0 23] 13\n",
      "6.670463499570079 [8 8 1 3 2] 10\n",
      "13.495841272428583 [15 13  2  0  9] 15\n",
      "15.209352909507823 [15 15  2  0  2] 14\n",
      "7.125541858357819 [8 8 2 0 0] 9\n"
     ]
    }
   ],
   "source": [
    "picklefile = open(\"studentmodel.pickle\", \"rb\")\n",
    "linear = pickle.load(picklefile)\n",
    "predictions = linear.predict(x_test)\n",
    "\n",
    "for x in range(len(predictions)):\n",
    "    print(predictions[x], x_test[x], y_test[x] )"
   ]
  },
  {
   "cell_type": "code",
   "execution_count": 11,
   "metadata": {},
   "outputs": [
    {
     "data": {
      "image/png": "[encoded data removed]",
      "text/plain": [
       "<Figure size 432x288 with 1 Axes>"
      ]
     },
     "metadata": {},
     "output_type": "display_data"
    }
   ],
   "source": [
    "P = \"absences\"\n",
    "style.use(\"ggplot\")\n",
    "pyplot.scatter(df[P], df[predict])\n",
    "pyplot.xlabel(P)\n",
    "pyplot.ylabel(\"Final Grade\")\n",
    "pyplot.show()"
   ]
  },
  {
   "cell_type": "code",
   "execution_count": null,
   "metadata": {},
   "outputs": [],
   "source": []
  }
 ],
 "metadata": {
  "kernelspec": {
   "display_name": "Python 3",
   "language": "python",
   "name": "python3"
  },
  "language_info": {
   "codemirror_mode": {
    "name": "ipython",
    "version": 3
   },
   "file_extension": ".py",
   "mimetype": "text/x-python",
   "name": "python",
   "nbconvert_exporter": "python",
   "pygments_lexer": "ipython3",
   "version": "3.8.8"
  }
 },
 "nbformat": 4,
 "nbformat_minor": 4
}
